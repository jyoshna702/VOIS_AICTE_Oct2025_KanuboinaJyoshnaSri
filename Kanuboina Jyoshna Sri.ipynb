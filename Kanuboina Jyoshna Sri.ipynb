{
 "cells": [
  {
   "cell_type": "markdown",
   "id": "14f98094",
   "metadata": {},
   "source": [
    "Problem Statement: Airbnb Hotel Booking Analysis.\n",
    "\n",
    "The hospitality industry has undergone a tigrificant transformation with the rise of online platforms facilitating short term lodging and Inuriom Leading this revolution is Artib, Inc., a pioneering American company that has reshaped travel accommodation through its innovative online marketplace, Established in 2008 in San Francisco, California, Airbnb provides a diverse range of lodging options, ofliving guests a unique and persunaltaed experience. Unlike traditional hospitality providens, Airbnb operates on a commission based model, facilitating transactions bettween boots and guests without owning the properties listed on its platform\n",
    "\n",
    "This research analysts delves into the New York City Airbnb dataset to extract meaningful nights. Through rigorous data cleaning exploratory analysis, and visustination techniques, the study aims to illuminate the dynamics of the city's lodging martat. By disceming factors among Esting availability, pricing strategies, and overall customer satisfaction, the research contributes to a deeper understanding of it's operations is one of the world's most dynamic urban environments. These insights hold significance for stakeholders and enthetasenkong to navigate the evolving landscape of short-term accomationdation\n"
   ]
  },
  {
   "cell_type": "markdown",
   "id": "7686b849",
   "metadata": {},
   "source": [
    "DATA WRANGLING\n",
    "\n",
    "Data wrangling, a crucial phase in the data analysis process, involves preparing and cleaning raw data to make it suitable for analysis. This involves various tasks such as handling missing values, removing duplicates, and transforming data into a consistent format. Effective data wrangling ensures that the data is reliable and ready for exploration, enabling meaningful insights to be derived from it."
   ]
  },
  {
   "cell_type": "code",
   "execution_count": 13,
   "id": "1ff420d9",
   "metadata": {},
   "outputs": [],
   "source": [
    "import numpy as np\n",
    "import pandas as pd\n",
    "import matplotlib.pyplot as plt\n",
    "import seaborn as sns\n",
    "import plotly.express as px"
   ]
  },
  {
   "cell_type": "code",
   "execution_count": 14,
   "id": "6638e5ca",
   "metadata": {},
   "outputs": [],
   "source": [
    "#Read the AirBnb Data\n",
    "\n",
    "df = pd.read_csv(\"Airbnb_Open_Data.csv\", low_memory=False)\n"
   ]
  },
  {
   "cell_type": "markdown",
   "id": "842c53d1",
   "metadata": {},
   "source": [
    "ACCESS THE DATA"
   ]
  },
  {
   "cell_type": "code",
   "execution_count": 15,
   "id": "551bbb22",
   "metadata": {},
   "outputs": [
    {
     "data": {
      "text/plain": [
       "<bound method NDFrame.head of              id                                              NAME  \\\n",
       "0       1001254                Clean & quiet apt home by the park   \n",
       "1       1002102                             Skylit Midtown Castle   \n",
       "2       1002403               THE VILLAGE OF HARLEM....NEW YORK !   \n",
       "3       1002755                                               NaN   \n",
       "4       1003689  Entire Apt: Spacious Studio/Loft by central park   \n",
       "...         ...                                               ...   \n",
       "102594  6092437                        Spare room in Williamsburg   \n",
       "102595  6092990                     Best Location near Columbia U   \n",
       "102596  6093542                    Comfy, bright room in Brooklyn   \n",
       "102597  6094094                  Big Studio-One Stop from Midtown   \n",
       "102598  6094647                              585 sf Luxury Studio   \n",
       "\n",
       "            host id host_identity_verified    host name neighbourhood group  \\\n",
       "0       80014485718            unconfirmed     Madaline            Brooklyn   \n",
       "1       52335172823               verified        Jenna           Manhattan   \n",
       "2       78829239556                    NaN        Elise           Manhattan   \n",
       "3       85098326012            unconfirmed        Garry            Brooklyn   \n",
       "4       92037596077               verified       Lyndon           Manhattan   \n",
       "...             ...                    ...          ...                 ...   \n",
       "102594  12312296767               verified         Krik            Brooklyn   \n",
       "102595  77864383453            unconfirmed        Mifan           Manhattan   \n",
       "102596  69050334417            unconfirmed        Megan            Brooklyn   \n",
       "102597  11160591270            unconfirmed  Christopher              Queens   \n",
       "102598  68170633372            unconfirmed      Rebecca           Manhattan   \n",
       "\n",
       "              neighbourhood       lat      long        country  ...  \\\n",
       "0                Kensington  40.64749 -73.97237  United States  ...   \n",
       "1                   Midtown  40.75362 -73.98377  United States  ...   \n",
       "2                    Harlem  40.80902 -73.94190  United States  ...   \n",
       "3              Clinton Hill  40.68514 -73.95976  United States  ...   \n",
       "4               East Harlem  40.79851 -73.94399  United States  ...   \n",
       "...                     ...       ...       ...            ...  ...   \n",
       "102594         Williamsburg  40.70862 -73.94651  United States  ...   \n",
       "102595  Morningside Heights  40.80460 -73.96545  United States  ...   \n",
       "102596           Park Slope  40.67505 -73.98045  United States  ...   \n",
       "102597     Long Island City  40.74989 -73.93777  United States  ...   \n",
       "102598      Upper West Side  40.76807 -73.98342  United States  ...   \n",
       "\n",
       "       service fee  minimum nights number of reviews last review  \\\n",
       "0            193.0            10.0               9.0  2021-10-19   \n",
       "1             28.0            30.0              45.0  2022-05-21   \n",
       "2            124.0             3.0               0.0         NaN   \n",
       "3             74.0            30.0             270.0  2019-07-05   \n",
       "4             41.0            10.0               9.0  2018-11-19   \n",
       "...            ...             ...               ...         ...   \n",
       "102594       169.0             1.0               0.0         NaN   \n",
       "102595       167.0             1.0               1.0  2015-07-06   \n",
       "102596       198.0             3.0               0.0         NaN   \n",
       "102597       109.0             2.0               5.0  2015-10-11   \n",
       "102598       206.0             1.0               0.0         NaN   \n",
       "\n",
       "        reviews per month  review rate number  calculated host listings count  \\\n",
       "0                    0.21                 4.0                             6.0   \n",
       "1                    0.38                 4.0                             2.0   \n",
       "2                     NaN                 5.0                             1.0   \n",
       "3                    4.64                 4.0                             1.0   \n",
       "4                    0.10                 3.0                             1.0   \n",
       "...                   ...                 ...                             ...   \n",
       "102594                NaN                 3.0                             1.0   \n",
       "102595               0.02                 2.0                             2.0   \n",
       "102596                NaN                 5.0                             1.0   \n",
       "102597               0.10                 3.0                             1.0   \n",
       "102598                NaN                 3.0                             1.0   \n",
       "\n",
       "        availability 365                                        house_rules  \\\n",
       "0                  286.0  Clean up and treat the home the way you'd like...   \n",
       "1                  228.0  Pet friendly but please confirm with me if the...   \n",
       "2                  352.0  I encourage you to use my kitchen, cooking and...   \n",
       "3                  322.0                                                NaN   \n",
       "4                  289.0  Please no smoking in the house, porch or on th...   \n",
       "...                  ...                                                ...   \n",
       "102594             227.0  No Smoking No Parties or Events of any kind Pl...   \n",
       "102595             395.0  House rules: Guests agree to the following ter...   \n",
       "102596             342.0                                                NaN   \n",
       "102597             386.0                                                NaN   \n",
       "102598              69.0                                                NaN   \n",
       "\n",
       "       license  \n",
       "0          NaN  \n",
       "1          NaN  \n",
       "2          NaN  \n",
       "3          NaN  \n",
       "4          NaN  \n",
       "...        ...  \n",
       "102594     NaN  \n",
       "102595     NaN  \n",
       "102596     NaN  \n",
       "102597     NaN  \n",
       "102598     NaN  \n",
       "\n",
       "[102599 rows x 26 columns]>"
      ]
     },
     "execution_count": 15,
     "metadata": {},
     "output_type": "execute_result"
    }
   ],
   "source": [
    "df.head"
   ]
  },
  {
   "cell_type": "code",
   "execution_count": 16,
   "id": "7f286f48",
   "metadata": {},
   "outputs": [
    {
     "name": "stdout",
     "output_type": "stream",
     "text": [
      "<class 'pandas.core.frame.DataFrame'>\n",
      "RangeIndex: 102599 entries, 0 to 102598\n",
      "Data columns (total 26 columns):\n",
      " #   Column                          Non-Null Count   Dtype  \n",
      "---  ------                          --------------   -----  \n",
      " 0   id                              102599 non-null  int64  \n",
      " 1   NAME                            102329 non-null  object \n",
      " 2   host id                         102599 non-null  int64  \n",
      " 3   host_identity_verified          102310 non-null  object \n",
      " 4   host name                       102191 non-null  object \n",
      " 5   neighbourhood group             102570 non-null  object \n",
      " 6   neighbourhood                   102583 non-null  object \n",
      " 7   lat                             102591 non-null  float64\n",
      " 8   long                            102591 non-null  float64\n",
      " 9   country                         102067 non-null  object \n",
      " 10  country code                    102468 non-null  object \n",
      " 11  instant_bookable                102494 non-null  float64\n",
      " 12  cancellation_policy             102523 non-null  object \n",
      " 13  room type                       102599 non-null  object \n",
      " 14  Construction year               102385 non-null  float64\n",
      " 15  price                           102352 non-null  float64\n",
      " 16  service fee                     102326 non-null  float64\n",
      " 17  minimum nights                  102190 non-null  float64\n",
      " 18  number of reviews               102416 non-null  float64\n",
      " 19  last review                     86706 non-null   object \n",
      " 20  reviews per month               86720 non-null   float64\n",
      " 21  review rate number              102273 non-null  float64\n",
      " 22  calculated host listings count  102280 non-null  float64\n",
      " 23  availability 365                102151 non-null  float64\n",
      " 24  house_rules                     47756 non-null   object \n",
      " 25  license                         2 non-null       object \n",
      "dtypes: float64(12), int64(2), object(12)\n",
      "memory usage: 20.4+ MB\n"
     ]
    }
   ],
   "source": [
    "df.info()"
   ]
  },
  {
   "cell_type": "markdown",
   "id": "7189b79e",
   "metadata": {},
   "source": [
    "df.duplicated().value_counts()"
   ]
  },
  {
   "cell_type": "code",
   "execution_count": 17,
   "id": "676f5d96",
   "metadata": {},
   "outputs": [
    {
     "data": {
      "text/html": [
       "<div>\n",
       "<style scoped>\n",
       "    .dataframe tbody tr th:only-of-type {\n",
       "        vertical-align: middle;\n",
       "    }\n",
       "\n",
       "    .dataframe tbody tr th {\n",
       "        vertical-align: top;\n",
       "    }\n",
       "\n",
       "    .dataframe thead th {\n",
       "        text-align: right;\n",
       "    }\n",
       "</style>\n",
       "<table border=\"1\" class=\"dataframe\">\n",
       "  <thead>\n",
       "    <tr style=\"text-align: right;\">\n",
       "      <th></th>\n",
       "      <th>id</th>\n",
       "      <th>NAME</th>\n",
       "      <th>host id</th>\n",
       "      <th>host_identity_verified</th>\n",
       "      <th>host name</th>\n",
       "      <th>neighbourhood group</th>\n",
       "      <th>neighbourhood</th>\n",
       "      <th>lat</th>\n",
       "      <th>long</th>\n",
       "      <th>country</th>\n",
       "      <th>...</th>\n",
       "      <th>service fee</th>\n",
       "      <th>minimum nights</th>\n",
       "      <th>number of reviews</th>\n",
       "      <th>last review</th>\n",
       "      <th>reviews per month</th>\n",
       "      <th>review rate number</th>\n",
       "      <th>calculated host listings count</th>\n",
       "      <th>availability 365</th>\n",
       "      <th>house_rules</th>\n",
       "      <th>license</th>\n",
       "    </tr>\n",
       "  </thead>\n",
       "  <tbody>\n",
       "  </tbody>\n",
       "</table>\n",
       "<p>0 rows × 26 columns</p>\n",
       "</div>"
      ],
      "text/plain": [
       "Empty DataFrame\n",
       "Columns: [id, NAME, host id, host_identity_verified, host name, neighbourhood group, neighbourhood, lat, long, country, country code, instant_bookable, cancellation_policy, room type, Construction year, price, service fee, minimum nights, number of reviews, last review, reviews per month, review rate number, calculated host listings count, availability 365, house_rules, license]\n",
       "Index: []\n",
       "\n",
       "[0 rows x 26 columns]"
      ]
     },
     "execution_count": 17,
     "metadata": {},
     "output_type": "execute_result"
    }
   ],
   "source": [
    "#Neighbourhood group was 'brookln' instead of 'Brooklyn'\n",
    "\n",
    "df [df['neighbourhood group'] == 'brookin']"
   ]
  },
  {
   "cell_type": "markdown",
   "id": "4fc59503",
   "metadata": {},
   "source": [
    "Problems Identified within the Data\n",
    "\n",
    "541 duplicated Records where found in the Data.\n",
    "\n",
    "Insufficient information were recorded for the house_rules and Licence colurnns.\n",
    "\n",
    "Dollar signs and commas recorded along with the values for price and service fee.\n",
    "\n",
    "The currency for price and service fee were not added to the column's titles.\n",
    "\n",
    "Missing values in some records\n",
    "\n",
    "Columns like the price, service fee, id, host id, last review, Construction year are assigned wrong datatypes.\n",
    "\n",
    "In the neighbourhood group column the spelling of 'Brooklyn' was misspelt in some records.\n",
    "\n",
    "Some outliers were identified in the availability 365 column."
   ]
  },
  {
   "cell_type": "markdown",
   "id": "53720c9c",
   "metadata": {},
   "source": [
    "CLEAN THE DATA\n",
    "\n",
    "Steps to be Taken for Data Cleaning\n",
    "\n",
    "Drop duplicated records.\n",
    "\n",
    "Drop house rules and license columns with insufficient data.\n",
    "\n",
    "Remove all dollar signs in the price and service fee columns.\n",
    "\n",
    "Remove all commas from the price and service fee columns.\n",
    "\n",
    "Rename the price and service fee columns to include a dollar signs.\n",
    "\n",
    "Drop all records with missing values.\n",
    "\n",
    "Change all mismatched data types to the appropriate once.\n",
    "\n",
    "Get rid of outliers in the 'availability 365' column data."
   ]
  },
  {
   "cell_type": "code",
   "execution_count": 18,
   "id": "bcc525f1",
   "metadata": {},
   "outputs": [
    {
     "name": "stdout",
     "output_type": "stream",
     "text": [
      "✅ Data cleaning complete!\n",
      "Remaining columns: ['id', 'NAME', 'host id', 'host_identity_verified', 'host name', 'neighbourhood group', 'neighbourhood', 'lat', 'long', 'country', 'country code', 'instant_bookable', 'cancellation_policy', 'room type', 'Construction year', 'price_$', 'service_fee_$', 'minimum nights', 'number of reviews', 'last review', 'reviews per month', 'review rate number', 'calculated host listings count', 'availability 365']\n"
     ]
    }
   ],
   "source": [
    "# Drop duplicate records\n",
    "df.drop_duplicates(inplace = True) \n",
    "\n",
    "# Drop duplicate records\n",
    "df.drop_duplicates(inplace=True)\n",
    "\n",
    "# Drop house_rules and license columns if they exist\n",
    "df.drop(['house_rules', 'license'], axis=1, inplace=True, errors='ignore')\n",
    "\n",
    "# Clean 'price' and 'service fee' columns (remove $ and ,)\n",
    "for col in ['price', 'service fee']:\n",
    "    if col in df.columns:\n",
    "        df[col] = df[col].astype(str)  # convert to string first\n",
    "        df[col] = df[col].str.replace('$', '', regex=False)\n",
    "        df[col] = df[col].str.replace(',', '', regex=False)\n",
    "\n",
    "# Rename columns (only if they exist)\n",
    "df.rename(columns={\n",
    "    'price': 'price_$',\n",
    "    'service fee': 'service_fee_$'\n",
    "}, inplace=True)\n",
    "\n",
    "# Drop rows with missing values\n",
    "df.dropna(inplace=True)\n",
    "\n",
    "# Convert data types safely\n",
    "if 'price_$' in df.columns:\n",
    "    df['price_$'] = pd.to_numeric(df['price_$'], errors='coerce')\n",
    "\n",
    "if 'service_fee_$' in df.columns:\n",
    "    df['service_fee_$'] = pd.to_numeric(df['service_fee_$'], errors='coerce')\n",
    "\n",
    "if 'id' in df.columns:\n",
    "    df['id'] = df['id'].astype(str)\n",
    "\n",
    "if 'host id' in df.columns:\n",
    "    df['host id'] = df['host id'].astype(str)\n",
    "\n",
    "if 'last review' in df.columns:\n",
    "    df['last review'] = pd.to_datetime(df['last review'], errors='coerce')\n",
    "\n",
    "if 'Construction year' in df.columns:\n",
    "    df['Construction year'] = pd.to_numeric(df['Construction year'], errors='coerce').astype('Int64')\n",
    "\n",
    "# Final check\n",
    "print(\"✅ Data cleaning complete!\")\n",
    "print(\"Remaining columns:\", df.columns.tolist())"
   ]
  },
  {
   "cell_type": "code",
   "execution_count": 19,
   "id": "2d700840",
   "metadata": {},
   "outputs": [
    {
     "data": {
      "text/plain": [
       "False    83797\n",
       "dtype: int64"
      ]
     },
     "execution_count": 19,
     "metadata": {},
     "output_type": "execute_result"
    }
   ],
   "source": [
    "df.duplicated().value_counts()"
   ]
  },
  {
   "cell_type": "code",
   "execution_count": 20,
   "id": "3eb32a05",
   "metadata": {},
   "outputs": [
    {
     "name": "stdout",
     "output_type": "stream",
     "text": [
      "<class 'pandas.core.frame.DataFrame'>\n",
      "Int64Index: 83797 entries, 0 to 102057\n",
      "Data columns (total 24 columns):\n",
      " #   Column                          Non-Null Count  Dtype         \n",
      "---  ------                          --------------  -----         \n",
      " 0   id                              83797 non-null  object        \n",
      " 1   NAME                            83797 non-null  object        \n",
      " 2   host id                         83797 non-null  object        \n",
      " 3   host_identity_verified          83797 non-null  object        \n",
      " 4   host name                       83797 non-null  object        \n",
      " 5   neighbourhood group             83797 non-null  object        \n",
      " 6   neighbourhood                   83797 non-null  object        \n",
      " 7   lat                             83797 non-null  float64       \n",
      " 8   long                            83797 non-null  float64       \n",
      " 9   country                         83797 non-null  object        \n",
      " 10  country code                    83797 non-null  object        \n",
      " 11  instant_bookable                83797 non-null  float64       \n",
      " 12  cancellation_policy             83797 non-null  object        \n",
      " 13  room type                       83797 non-null  object        \n",
      " 14  Construction year               83797 non-null  Int64         \n",
      " 15  price_$                         83597 non-null  float64       \n",
      " 16  service_fee_$                   83568 non-null  float64       \n",
      " 17  minimum nights                  83797 non-null  float64       \n",
      " 18  number of reviews               83797 non-null  float64       \n",
      " 19  last review                     83797 non-null  datetime64[ns]\n",
      " 20  reviews per month               83797 non-null  float64       \n",
      " 21  review rate number              83797 non-null  float64       \n",
      " 22  calculated host listings count  83797 non-null  float64       \n",
      " 23  availability 365                83797 non-null  float64       \n",
      "dtypes: Int64(1), datetime64[ns](1), float64(11), object(11)\n",
      "memory usage: 16.1+ MB\n"
     ]
    }
   ],
   "source": [
    "df.info()"
   ]
  },
  {
   "cell_type": "markdown",
   "id": "f9129cc2",
   "metadata": {},
   "source": [
    "EXPLORATORY DATA ANALYSIS (EDA)\n",
    "\n",
    "Exploratory Data Analysis (EDA) is a vital phase in data analysis, involving the examination and visualization of data to uncover patterns, trends, and insights. In the context of an Airbnb data analysis project, EDA allows researchers to gain a comprehensive understanding of the dataset's characteristics, distribution, and relationships between variables. Through techniques such as summary statistics, data visualization, and correlation analysis, EDA sets the stage for further investigation and hypothesis testing, guiding subsequent analytical decisions.\n",
    "\n"
   ]
  },
  {
   "cell_type": "markdown",
   "id": "16193586",
   "metadata": {},
   "source": [
    "Summary Statistics"
   ]
  },
  {
   "cell_type": "code",
   "execution_count": 38,
   "id": "898fc533",
   "metadata": {},
   "outputs": [
    {
     "data": {
      "text/html": [
       "<div>\n",
       "<style scoped>\n",
       "    .dataframe tbody tr th:only-of-type {\n",
       "        vertical-align: middle;\n",
       "    }\n",
       "\n",
       "    .dataframe tbody tr th {\n",
       "        vertical-align: top;\n",
       "    }\n",
       "\n",
       "    .dataframe thead th {\n",
       "        text-align: right;\n",
       "    }\n",
       "</style>\n",
       "<table border=\"1\" class=\"dataframe\">\n",
       "  <thead>\n",
       "    <tr style=\"text-align: right;\">\n",
       "      <th></th>\n",
       "      <th>lat</th>\n",
       "      <th>long</th>\n",
       "      <th>instant_bookable</th>\n",
       "      <th>Construction year</th>\n",
       "      <th>price_$</th>\n",
       "      <th>service_fee_$</th>\n",
       "      <th>minimum nights</th>\n",
       "      <th>number of reviews</th>\n",
       "      <th>reviews per month</th>\n",
       "      <th>review rate number</th>\n",
       "      <th>calculated host listings count</th>\n",
       "      <th>availability 365</th>\n",
       "    </tr>\n",
       "  </thead>\n",
       "  <tbody>\n",
       "    <tr>\n",
       "      <th>count</th>\n",
       "      <td>83797.000000</td>\n",
       "      <td>83797.000000</td>\n",
       "      <td>83797.000000</td>\n",
       "      <td>83797.000000</td>\n",
       "      <td>83597.000000</td>\n",
       "      <td>83568.000000</td>\n",
       "      <td>83797.000000</td>\n",
       "      <td>83797.000000</td>\n",
       "      <td>83797.000000</td>\n",
       "      <td>83797.000000</td>\n",
       "      <td>83797.000000</td>\n",
       "      <td>83797.000000</td>\n",
       "    </tr>\n",
       "    <tr>\n",
       "      <th>mean</th>\n",
       "      <td>40.727355</td>\n",
       "      <td>-73.948502</td>\n",
       "      <td>0.497727</td>\n",
       "      <td>2012.489481</td>\n",
       "      <td>626.349151</td>\n",
       "      <td>125.233774</td>\n",
       "      <td>7.436722</td>\n",
       "      <td>32.229006</td>\n",
       "      <td>1.375618</td>\n",
       "      <td>3.278841</td>\n",
       "      <td>7.049835</td>\n",
       "      <td>141.801341</td>\n",
       "    </tr>\n",
       "    <tr>\n",
       "      <th>std</th>\n",
       "      <td>0.056317</td>\n",
       "      <td>0.050338</td>\n",
       "      <td>0.499998</td>\n",
       "      <td>5.760501</td>\n",
       "      <td>331.813050</td>\n",
       "      <td>66.358543</td>\n",
       "      <td>28.122748</td>\n",
       "      <td>51.902177</td>\n",
       "      <td>1.749447</td>\n",
       "      <td>1.283730</td>\n",
       "      <td>29.568531</td>\n",
       "      <td>133.965307</td>\n",
       "    </tr>\n",
       "    <tr>\n",
       "      <th>min</th>\n",
       "      <td>40.504560</td>\n",
       "      <td>-74.249840</td>\n",
       "      <td>0.000000</td>\n",
       "      <td>2003.000000</td>\n",
       "      <td>50.000000</td>\n",
       "      <td>10.000000</td>\n",
       "      <td>-365.000000</td>\n",
       "      <td>1.000000</td>\n",
       "      <td>0.010000</td>\n",
       "      <td>1.000000</td>\n",
       "      <td>1.000000</td>\n",
       "      <td>-10.000000</td>\n",
       "    </tr>\n",
       "    <tr>\n",
       "      <th>25%</th>\n",
       "      <td>40.687660</td>\n",
       "      <td>-73.982110</td>\n",
       "      <td>0.000000</td>\n",
       "      <td>2007.000000</td>\n",
       "      <td>340.000000</td>\n",
       "      <td>68.000000</td>\n",
       "      <td>2.000000</td>\n",
       "      <td>3.000000</td>\n",
       "      <td>0.220000</td>\n",
       "      <td>2.000000</td>\n",
       "      <td>1.000000</td>\n",
       "      <td>6.000000</td>\n",
       "    </tr>\n",
       "    <tr>\n",
       "      <th>50%</th>\n",
       "      <td>40.721340</td>\n",
       "      <td>-73.953710</td>\n",
       "      <td>0.000000</td>\n",
       "      <td>2012.000000</td>\n",
       "      <td>625.000000</td>\n",
       "      <td>125.000000</td>\n",
       "      <td>3.000000</td>\n",
       "      <td>11.000000</td>\n",
       "      <td>0.740000</td>\n",
       "      <td>3.000000</td>\n",
       "      <td>1.000000</td>\n",
       "      <td>101.000000</td>\n",
       "    </tr>\n",
       "    <tr>\n",
       "      <th>75%</th>\n",
       "      <td>40.762580</td>\n",
       "      <td>-73.930790</td>\n",
       "      <td>1.000000</td>\n",
       "      <td>2017.000000</td>\n",
       "      <td>914.000000</td>\n",
       "      <td>183.000000</td>\n",
       "      <td>5.000000</td>\n",
       "      <td>38.000000</td>\n",
       "      <td>2.010000</td>\n",
       "      <td>4.000000</td>\n",
       "      <td>2.000000</td>\n",
       "      <td>266.000000</td>\n",
       "    </tr>\n",
       "    <tr>\n",
       "      <th>max</th>\n",
       "      <td>40.916970</td>\n",
       "      <td>-73.705220</td>\n",
       "      <td>1.000000</td>\n",
       "      <td>2022.000000</td>\n",
       "      <td>1200.000000</td>\n",
       "      <td>240.000000</td>\n",
       "      <td>5645.000000</td>\n",
       "      <td>1024.000000</td>\n",
       "      <td>90.000000</td>\n",
       "      <td>5.000000</td>\n",
       "      <td>332.000000</td>\n",
       "      <td>3677.000000</td>\n",
       "    </tr>\n",
       "  </tbody>\n",
       "</table>\n",
       "</div>"
      ],
      "text/plain": [
       "                lat          long  instant_bookable  Construction year  \\\n",
       "count  83797.000000  83797.000000      83797.000000       83797.000000   \n",
       "mean      40.727355    -73.948502          0.497727        2012.489481   \n",
       "std        0.056317      0.050338          0.499998           5.760501   \n",
       "min       40.504560    -74.249840          0.000000        2003.000000   \n",
       "25%       40.687660    -73.982110          0.000000        2007.000000   \n",
       "50%       40.721340    -73.953710          0.000000        2012.000000   \n",
       "75%       40.762580    -73.930790          1.000000        2017.000000   \n",
       "max       40.916970    -73.705220          1.000000        2022.000000   \n",
       "\n",
       "            price_$  service_fee_$  minimum nights  number of reviews  \\\n",
       "count  83597.000000   83568.000000    83797.000000       83797.000000   \n",
       "mean     626.349151     125.233774        7.436722          32.229006   \n",
       "std      331.813050      66.358543       28.122748          51.902177   \n",
       "min       50.000000      10.000000     -365.000000           1.000000   \n",
       "25%      340.000000      68.000000        2.000000           3.000000   \n",
       "50%      625.000000     125.000000        3.000000          11.000000   \n",
       "75%      914.000000     183.000000        5.000000          38.000000   \n",
       "max     1200.000000     240.000000     5645.000000        1024.000000   \n",
       "\n",
       "       reviews per month  review rate number  calculated host listings count  \\\n",
       "count       83797.000000        83797.000000                    83797.000000   \n",
       "mean            1.375618            3.278841                        7.049835   \n",
       "std             1.749447            1.283730                       29.568531   \n",
       "min             0.010000            1.000000                        1.000000   \n",
       "25%             0.220000            2.000000                        1.000000   \n",
       "50%             0.740000            3.000000                        1.000000   \n",
       "75%             2.010000            4.000000                        2.000000   \n",
       "max            90.000000            5.000000                      332.000000   \n",
       "\n",
       "       availability 365  \n",
       "count      83797.000000  \n",
       "mean         141.801341  \n",
       "std          133.965307  \n",
       "min          -10.000000  \n",
       "25%            6.000000  \n",
       "50%          101.000000  \n",
       "75%          266.000000  \n",
       "max         3677.000000  "
      ]
     },
     "execution_count": 38,
     "metadata": {},
     "output_type": "execute_result"
    }
   ],
   "source": [
    "df.describe()"
   ]
  },
  {
   "cell_type": "markdown",
   "id": "9eb93214",
   "metadata": {},
   "source": [
    "What are the different property types in the Dataset?"
   ]
  },
  {
   "cell_type": "code",
   "execution_count": 39,
   "id": "7f83f7b2",
   "metadata": {},
   "outputs": [
    {
     "data": {
      "text/html": [
       "<div>\n",
       "<style scoped>\n",
       "    .dataframe tbody tr th:only-of-type {\n",
       "        vertical-align: middle;\n",
       "    }\n",
       "\n",
       "    .dataframe tbody tr th {\n",
       "        vertical-align: top;\n",
       "    }\n",
       "\n",
       "    .dataframe thead th {\n",
       "        text-align: right;\n",
       "    }\n",
       "</style>\n",
       "<table border=\"1\" class=\"dataframe\">\n",
       "  <thead>\n",
       "    <tr style=\"text-align: right;\">\n",
       "      <th></th>\n",
       "      <th>room type</th>\n",
       "    </tr>\n",
       "  </thead>\n",
       "  <tbody>\n",
       "    <tr>\n",
       "      <th>Entire home/apt</th>\n",
       "      <td>44368</td>\n",
       "    </tr>\n",
       "    <tr>\n",
       "      <th>Private room</th>\n",
       "      <td>37664</td>\n",
       "    </tr>\n",
       "    <tr>\n",
       "      <th>Shared room</th>\n",
       "      <td>1655</td>\n",
       "    </tr>\n",
       "    <tr>\n",
       "      <th>Hotel room</th>\n",
       "      <td>110</td>\n",
       "    </tr>\n",
       "  </tbody>\n",
       "</table>\n",
       "</div>"
      ],
      "text/plain": [
       "                 room type\n",
       "Entire home/apt      44368\n",
       "Private room         37664\n",
       "Shared room           1655\n",
       "Hotel room             110"
      ]
     },
     "execution_count": 39,
     "metadata": {},
     "output_type": "execute_result"
    }
   ],
   "source": [
    "#What are the different property types in the Dataset?\n",
    "\n",
    "property_types = df['room type'].value_counts().to_frame()\n",
    "\n",
    "property_types"
   ]
  },
  {
   "cell_type": "code",
   "execution_count": 43,
   "id": "acf31d36",
   "metadata": {},
   "outputs": [
    {
     "data": {
      "image/png": "[encoded data removed]",
      "text/plain": [
       "<Figure size 432x288 with 1 Axes>"
      ]
     },
     "metadata": {
      "needs_background": "light"
     },
     "output_type": "display_data"
    }
   ],
   "source": [
    "#Room type count plotted on a barchart\n",
    "room_type_bar = plt.bar(property_types.index, property_types.loc[:,\"room type\"]);\n",
    "plt.bar_label(room_type_bar, labels = property_types.loc[:,\"room type\"], padding = 4);\n",
    "plt.ylim([0,50000]);\n",
    "plt.xlabel('Room Type');\n",
    "plt.ylabel('Room Type Count');\n",
    "plt.title('Property Types and their count in the Dataset');"
   ]
  },
  {
   "cell_type": "markdown",
   "id": "f6681c98",
   "metadata": {},
   "source": [
    "The Airbnb open dataset reveals four distinct property or room types. These categories comprise;\n",
    "\n",
    "Entire home/apt\n",
    "\n",
    "Private room\n",
    "\n",
    "Shared room\n",
    "\n",
    "Hotel room\n",
    "\n",
    "Notably, the barchart illustrates that Entire home/apt dominates the dataset with 44,163 occurrences, followed by Private room with 37,494 occurrences. Shared room and Hotel room trail behind with 1,646 and 108 occurrences, respectively.\n",
    "\n"
   ]
  },
  {
   "cell_type": "markdown",
   "id": "abf3cd0b",
   "metadata": {},
   "source": [
    "Which neighborhood group has the highest number of listings?\n",
    "\n"
   ]
  },
  {
   "cell_type": "code",
   "execution_count": 30,
   "id": "1240c567",
   "metadata": {},
   "outputs": [
    {
     "data": {
      "text/html": [
       "<div>\n",
       "<style scoped>\n",
       "    .dataframe tbody tr th:only-of-type {\n",
       "        vertical-align: middle;\n",
       "    }\n",
       "\n",
       "    .dataframe tbody tr th {\n",
       "        vertical-align: top;\n",
       "    }\n",
       "\n",
       "    .dataframe thead th {\n",
       "        text-align: right;\n",
       "    }\n",
       "</style>\n",
       "<table border=\"1\" class=\"dataframe\">\n",
       "  <thead>\n",
       "    <tr style=\"text-align: right;\">\n",
       "      <th></th>\n",
       "      <th>neighbourhood group</th>\n",
       "    </tr>\n",
       "  </thead>\n",
       "  <tbody>\n",
       "    <tr>\n",
       "      <th>Brooklyn</th>\n",
       "      <td>34779</td>\n",
       "    </tr>\n",
       "    <tr>\n",
       "      <th>Manhattan</th>\n",
       "      <td>34736</td>\n",
       "    </tr>\n",
       "    <tr>\n",
       "      <th>Queens</th>\n",
       "      <td>11184</td>\n",
       "    </tr>\n",
       "    <tr>\n",
       "      <th>Bronx</th>\n",
       "      <td>2276</td>\n",
       "    </tr>\n",
       "    <tr>\n",
       "      <th>Staten Island</th>\n",
       "      <td>821</td>\n",
       "    </tr>\n",
       "    <tr>\n",
       "      <th>brookln</th>\n",
       "      <td>1</td>\n",
       "    </tr>\n",
       "  </tbody>\n",
       "</table>\n",
       "</div>"
      ],
      "text/plain": [
       "               neighbourhood group\n",
       "Brooklyn                     34779\n",
       "Manhattan                    34736\n",
       "Queens                       11184\n",
       "Bronx                         2276\n",
       "Staten Island                  821\n",
       "brookln                          1"
      ]
     },
     "execution_count": 30,
     "metadata": {},
     "output_type": "execute_result"
    }
   ],
   "source": [
    "hood_group = df['neighbourhood group'].value_counts().to_frame()\n",
    "\n",
    "hood_group"
   ]
  },
  {
   "cell_type": "code",
   "execution_count": 45,
   "id": "80e70be8",
   "metadata": {},
   "outputs": [
    {
     "data": {
      "image/png": "[encoded data removed]",
      "text/plain": [
       "<Figure size 432x288 with 1 Axes>"
      ]
     },
     "metadata": {
      "needs_background": "light"
     },
     "output_type": "display_data"
    }
   ],
   "source": [
    "#which neighborhood group has the highest number of listings?\n",
    "\n",
    "hood_group_bar = plt.bar(hood_group.index, hood_group.loc[:, \"neighbourhood group\"]);\n",
    "\n",
    "plt.bar_label(hood_group_bar, labels = hood_group.loc[:, \"neighbourhood group\"], padding = 4 );\n",
    "\n",
    "plt.ylim([0,40000]);\n",
    "\n",
    "plt.xlabel('Neighborhood Groups');\n",
    "\n",
    "plt.ylabel('Number of Listings');\n",
    "\n",
    "plt.xticks(rotation = 45);\n",
    "\n",
    "plt.title('Which Neighborhood Groups has the highest number of Listings');"
   ]
  },
  {
   "cell_type": "markdown",
   "id": "20586bc6",
   "metadata": {},
   "source": [
    "The dataset contains five different neighborhood groups, namely Brooklyn, Manhattan, Queens, Bronx, and Staten Island. According to the barchart, Brooklyn has the highest number of listings with 34636, followed closely by Manhattan with 34566.\n"
   ]
  },
  {
   "cell_type": "markdown",
   "id": "0d1748be",
   "metadata": {},
   "source": [
    "Which neighborhoods group have the highest average prices for Airbnb listings?\n"
   ]
  },
  {
   "cell_type": "code",
   "execution_count": 31,
   "id": "1dafc169",
   "metadata": {},
   "outputs": [
    {
     "data": {
      "image/png": "[encoded data removed]",
      "text/plain": [
       "<Figure size 432x288 with 1 Axes>"
      ]
     },
     "metadata": {
      "needs_background": "light"
     },
     "output_type": "display_data"
    }
   ],
   "source": [
    "#which neighborhoods group have the highest average prices for Airbnb listings?\n",
    "\n",
    "avg_price = df.groupby('neighbourhood group')['price_$'].mean().sort_values(ascending = False).to_frame()\n",
    "\n",
    "avg_price_bar = plt.bar(avg_price.index, avg_price.loc[:,'price_$']);\n",
    "\n",
    "plt.bar_label(avg_price_bar, labels = round(avg_price.loc[:,\"price_$\"], 2), label_type = 'edge', padding = 4);\n",
    "\n",
    "plt.ylim([10,700]);\n",
    "\n",
    "plt.xlabel('Neighborhood Group');\n",
    "\n",
    "plt.ylabel('Average Price per Listings ($)');\n",
    "\n",
    "plt.xticks(rotation = 45);\n",
    "\n",
    "plt.title('Average Price per Listings ($) in each Neighborhood Group');"
   ]
  },
  {
   "cell_type": "markdown",
   "id": "30b5909b",
   "metadata": {},
   "source": [
    "Among the five identified neighborhood groups in the dataset, Queens boasts the highest average listing price at 630.46 USD, closely trailed by the Bronx with an average listing price of 630.20 USD. Conversely, Staten Island records the lowest average listing price at 622. 13 USD.\n"
   ]
  },
  {
   "cell_type": "markdown",
   "id": "1b224297",
   "metadata": {},
   "source": [
    "Is there a relationship between the construction year of property and price?\n"
   ]
  },
  {
   "cell_type": "code",
   "execution_count": 46,
   "id": "9dd3d14d",
   "metadata": {},
   "outputs": [
    {
     "data": {
      "image/png": "[encoded data removed]",
      "text/plain": [
       "<Figure size 432x288 with 1 Axes>"
      ]
     },
     "metadata": {
      "needs_background": "light"
     },
     "output_type": "display_data"
    }
   ],
   "source": [
    " #Is there a relationship between the construction year of property and price?\n",
    "\n",
    "df.groupby(df['Construction year']) ['price_$'].mean().to_frame().plot();\n",
    "\n",
    "plt.xlabel('construction Year');\n",
    "\n",
    "plt.ylabel('Average Price ($)');\n",
    "\n",
    "plt.title('Average Price ($) for Properties in each Construction Year');"
   ]
  },
  {
   "cell_type": "markdown",
   "id": "af33e840",
   "metadata": {},
   "source": [
    "The line plot depicting the construction year of properties versus the average price per property reveals a noticeable downward trend in prices as the construction years progress. The pattern demonstrates decreasing lows and highs, suggesting an overall decline in property prices as time progresses.\n"
   ]
  },
  {
   "cell_type": "markdown",
   "id": "783e8d63",
   "metadata": {},
   "source": [
    "Who are the top 10 hosts by calculated host listing count?"
   ]
  },
  {
   "cell_type": "markdown",
   "id": "c56d752c",
   "metadata": {},
   "source": [
    "From the numerous hosts in the dataset, we will see the 10 hosts with the highest calculated host count."
   ]
  },
  {
   "cell_type": "code",
   "execution_count": 60,
   "id": "f514068b",
   "metadata": {},
   "outputs": [
    {
     "data": {
      "image/png": "[encoded data removed]",
      "text/plain": [
       "<Figure size 432x288 with 1 Axes>"
      ]
     },
     "metadata": {
      "needs_background": "light"
     },
     "output_type": "display_data"
    }
   ],
   "source": [
    "#who are the top 10 hosts by calculated host listing count?\n",
    "\n",
    "hosts = df.groupby('host name') ['calculated host listings count'].sum().sort_values(ascending = False).nlargest (10).to_frame()\n",
    "\n",
    "hosts_bar = plt.bar(hosts.index, hosts.loc[:, 'calculated host listings count' ]);\n",
    "\n",
    "plt.bar_label(hosts_bar, label_type ='edge', padding = 4);\n",
    "\n",
    "plt.xlabel('Hosts Name');\n",
    "\n",
    "plt.ylabel('Calculated Host Listings Count');\n",
    "\n",
    "plt.xticks (rotation = 80);\n",
    "\n",
    "plt.ylim([0, 120000]);\n",
    "\n",
    "plt.title('Top 10 Hosts by Calculated host Listings Count');"
   ]
  },
  {
   "cell_type": "markdown",
   "id": "7c80665f",
   "metadata": {},
   "source": [
    "The bar chart above illustrates the top 10 hosts based on the calculated listing count, with Sonder (NYC) notably leading with 111,921 listings.\n",
    "\n",
    "Subsequently, the other hosts follow in descending order.\n",
    "\n",
    "Karen at second postion with 42410 hosts\n",
    "\n",
    "Jeniffer at third position with 31447 hosts\n",
    "\n",
    "Blueground at fourth position with 21168 hosts\n",
    "\n",
    "Kaz at fifth position with 17552 hosts\n",
    "\n",
    "Corporate Housing at sixth position with 14833 hosts\n",
    "\n",
    "Soya at seventh positon with 10260 hosts\n",
    "\n",
    "Stay with vibe at eight position with 10260 hosts\n",
    "\n",
    "Kara at ninth position with 10092 hosts\n",
    "\n",
    "and finally Jeremy and Laura at tenth position 10080 hosts"
   ]
  },
  {
   "cell_type": "markdown",
   "id": "836b64b6",
   "metadata": {},
   "source": [
    "Are hosts with verified identities more likely to receive positive reviews?"
   ]
  },
  {
   "cell_type": "code",
   "execution_count": 64,
   "id": "ae1cab2d",
   "metadata": {},
   "outputs": [
    {
     "data": {
      "text/html": [
       "<div>\n",
       "<style scoped>\n",
       "    .dataframe tbody tr th:only-of-type {\n",
       "        vertical-align: middle;\n",
       "    }\n",
       "\n",
       "    .dataframe tbody tr th {\n",
       "        vertical-align: top;\n",
       "    }\n",
       "\n",
       "    .dataframe thead th {\n",
       "        text-align: right;\n",
       "    }\n",
       "</style>\n",
       "<table border=\"1\" class=\"dataframe\">\n",
       "  <thead>\n",
       "    <tr style=\"text-align: right;\">\n",
       "      <th></th>\n",
       "      <th>review rate number</th>\n",
       "    </tr>\n",
       "    <tr>\n",
       "      <th>host_identity_verified</th>\n",
       "      <th></th>\n",
       "    </tr>\n",
       "  </thead>\n",
       "  <tbody>\n",
       "    <tr>\n",
       "      <th>verified</th>\n",
       "      <td>3.283897</td>\n",
       "    </tr>\n",
       "    <tr>\n",
       "      <th>unconfirmed</th>\n",
       "      <td>3.273786</td>\n",
       "    </tr>\n",
       "  </tbody>\n",
       "</table>\n",
       "</div>"
      ],
      "text/plain": [
       "                        review rate number\n",
       "host_identity_verified                    \n",
       "verified                          3.283897\n",
       "unconfirmed                       3.273786"
      ]
     },
     "execution_count": 64,
     "metadata": {},
     "output_type": "execute_result"
    }
   ],
   "source": [
    "#Are hosts with verified identities more likely to receive positive reviews?\n",
    "\n",
    "review = df.groupby('host_identity_verified') ['review rate number'].mean().sort_values(ascending = False).to_frame()\n",
    "\n",
    "review"
   ]
  },
  {
   "cell_type": "code",
   "execution_count": 65,
   "id": "609af09e",
   "metadata": {},
   "outputs": [
    {
     "data": {
      "image/png": "[encoded data removed]",
      "text/plain": [
       "<Figure size 432x288 with 1 Axes>"
      ]
     },
     "metadata": {
      "needs_background": "light"
     },
     "output_type": "display_data"
    }
   ],
   "source": [
    "review_bar = plt.bar(review.index, review.loc[:, \"review rate number\"]);\n",
    "\n",
    "plt.bar_label(review_bar, labels = round(review.loc[:, \"review rate number\"], 2), padding = 4 );\n",
    "\n",
    "plt.ylim([0,4]);\n",
    "\n",
    "plt.xlabel('Host verification Status');\n",
    "\n",
    "plt.ylabel('Average Review Rate Number');\n",
    "\n",
    "plt.title('Average Review Rate for each verification Statistics.');"
   ]
  },
  {
   "cell_type": "code",
   "execution_count": 66,
   "id": "8055171c",
   "metadata": {},
   "outputs": [
    {
     "data": {
      "image/png": "[encoded data removed]",
      "text/plain": [
       "<Figure size 432x288 with 1 Axes>"
      ]
     },
     "metadata": {
      "needs_background": "light"
     },
     "output_type": "display_data"
    }
   ],
   "source": [
    "base_color= sns.color_palette()[0]\n",
    "\n",
    "sns.boxplot(data = df, x = \"host_identity_verified\", y = \"review rate number\", color = base_color);\n",
    "\n",
    "plt.xlabel('Host Verification status');\n",
    "\n",
    "plt.ylabel('Review Rate Number');\n",
    "\n",
    "plt.title('Average Review Rate for each Verification Status');"
   ]
  },
  {
   "cell_type": "markdown",
   "id": "fc55b855",
   "metadata": {},
   "source": [
    "The average review rates for verified and unconfirmed hosts are 3.27 and 3.28, respectively, indicating a marginal difference in their review rates, with unconfirmed hosts having a slightly higher rate. This suggests that verified hosts are not necessarily more likely to receive positive reviews compared to unconfirmed hosts."
   ]
  },
  {
   "cell_type": "markdown",
   "id": "94d93948",
   "metadata": {},
   "source": [
    "Is there a correlation between the price of a listing and its service fee?"
   ]
  },
  {
   "cell_type": "code",
   "execution_count": 68,
   "id": "f8216b61",
   "metadata": {},
   "outputs": [
    {
     "data": {
      "text/plain": [
       "0.9999909085489933"
      ]
     },
     "execution_count": 68,
     "metadata": {},
     "output_type": "execute_result"
    }
   ],
   "source": [
    "#Is there a correlation between the price of a listing and its service fee?\n",
    "\n",
    "df['price_$'].corr(df['service_fee_$'])"
   ]
  },
  {
   "cell_type": "code",
   "execution_count": 72,
   "id": "5238b17f",
   "metadata": {},
   "outputs": [
    {
     "data": {
      "image/png": "[encoded data removed]",
      "text/plain": [
       "<Figure size 432x288 with 1 Axes>"
      ]
     },
     "metadata": {
      "needs_background": "light"
     },
     "output_type": "display_data"
    }
   ],
   "source": [
    "sns.regplot(data = df, x = 'price_$', y = 'service_fee_$');\n",
    "\n",
    "plt.xlabel('Price ($)');\n",
    "\n",
    "plt.ylabel('Service Fee ($)');\n",
    "\n",
    "plt.title('A Regression Plot showing the Correlation of the Price of a Listing and its Service Fee.');"
   ]
  },
  {
   "cell_type": "markdown",
   "id": "68e12d57",
   "metadata": {},
   "source": [
    "The Pearson correlation coefficient between the price and service fee is 0.99, indicating a highly robust positive correlation between these variables. On the regression plot, each point forms a rising diagonal line towards the right, signifying that as the price of a property increases, so does its service fee."
   ]
  },
  {
   "cell_type": "markdown",
   "id": "c6cd0a5b",
   "metadata": {},
   "source": [
    "What is the average review rate number (e.g., stars) for listings, and does it vary based on the neighborhood group and room type?"
   ]
  },
  {
   "cell_type": "code",
   "execution_count": 75,
   "id": "3c2c5122",
   "metadata": {},
   "outputs": [
    {
     "data": {
      "text/html": [
       "<div>\n",
       "<style scoped>\n",
       "    .dataframe tbody tr th:only-of-type {\n",
       "        vertical-align: middle;\n",
       "    }\n",
       "\n",
       "    .dataframe tbody tr th {\n",
       "        vertical-align: top;\n",
       "    }\n",
       "\n",
       "    .dataframe thead th {\n",
       "        text-align: right;\n",
       "    }\n",
       "</style>\n",
       "<table border=\"1\" class=\"dataframe\">\n",
       "  <thead>\n",
       "    <tr style=\"text-align: right;\">\n",
       "      <th></th>\n",
       "      <th></th>\n",
       "      <th>review rate number</th>\n",
       "    </tr>\n",
       "    <tr>\n",
       "      <th>neighbourhood group</th>\n",
       "      <th>room type</th>\n",
       "      <th></th>\n",
       "    </tr>\n",
       "  </thead>\n",
       "  <tbody>\n",
       "    <tr>\n",
       "      <th rowspan=\"3\" valign=\"top\">Bronx</th>\n",
       "      <th>Entire home/apt</th>\n",
       "      <td>3.379863</td>\n",
       "    </tr>\n",
       "    <tr>\n",
       "      <th>Private room</th>\n",
       "      <td>3.312548</td>\n",
       "    </tr>\n",
       "    <tr>\n",
       "      <th>Shared room</th>\n",
       "      <td>3.356322</td>\n",
       "    </tr>\n",
       "    <tr>\n",
       "      <th rowspan=\"4\" valign=\"top\">Brooklyn</th>\n",
       "      <th>Entire home/apt</th>\n",
       "      <td>3.243013</td>\n",
       "    </tr>\n",
       "    <tr>\n",
       "      <th>Hotel room</th>\n",
       "      <td>3.833333</td>\n",
       "    </tr>\n",
       "    <tr>\n",
       "      <th>Private room</th>\n",
       "      <td>3.274729</td>\n",
       "    </tr>\n",
       "    <tr>\n",
       "      <th>Shared room</th>\n",
       "      <td>3.322368</td>\n",
       "    </tr>\n",
       "    <tr>\n",
       "      <th rowspan=\"4\" valign=\"top\">Manhattan</th>\n",
       "      <th>Entire home/apt</th>\n",
       "      <td>3.269024</td>\n",
       "    </tr>\n",
       "    <tr>\n",
       "      <th>Hotel room</th>\n",
       "      <td>3.500000</td>\n",
       "    </tr>\n",
       "    <tr>\n",
       "      <th>Private room</th>\n",
       "      <td>3.285628</td>\n",
       "    </tr>\n",
       "    <tr>\n",
       "      <th>Shared room</th>\n",
       "      <td>3.252976</td>\n",
       "    </tr>\n",
       "    <tr>\n",
       "      <th rowspan=\"4\" valign=\"top\">Queens</th>\n",
       "      <th>Entire home/apt</th>\n",
       "      <td>3.347437</td>\n",
       "    </tr>\n",
       "    <tr>\n",
       "      <th>Hotel room</th>\n",
       "      <td>3.750000</td>\n",
       "    </tr>\n",
       "    <tr>\n",
       "      <th>Private room</th>\n",
       "      <td>3.311761</td>\n",
       "    </tr>\n",
       "    <tr>\n",
       "      <th>Shared room</th>\n",
       "      <td>3.327402</td>\n",
       "    </tr>\n",
       "    <tr>\n",
       "      <th rowspan=\"3\" valign=\"top\">Staten Island</th>\n",
       "      <th>Entire home/apt</th>\n",
       "      <td>3.334129</td>\n",
       "    </tr>\n",
       "    <tr>\n",
       "      <th>Private room</th>\n",
       "      <td>3.493671</td>\n",
       "    </tr>\n",
       "    <tr>\n",
       "      <th>Shared room</th>\n",
       "      <td>3.714286</td>\n",
       "    </tr>\n",
       "    <tr>\n",
       "      <th>brookln</th>\n",
       "      <th>Private room</th>\n",
       "      <td>4.000000</td>\n",
       "    </tr>\n",
       "  </tbody>\n",
       "</table>\n",
       "</div>"
      ],
      "text/plain": [
       "                                     review rate number\n",
       "neighbourhood group room type                          \n",
       "Bronx               Entire home/apt            3.379863\n",
       "                    Private room               3.312548\n",
       "                    Shared room                3.356322\n",
       "Brooklyn            Entire home/apt            3.243013\n",
       "                    Hotel room                 3.833333\n",
       "                    Private room               3.274729\n",
       "                    Shared room                3.322368\n",
       "Manhattan           Entire home/apt            3.269024\n",
       "                    Hotel room                 3.500000\n",
       "                    Private room               3.285628\n",
       "                    Shared room                3.252976\n",
       "Queens              Entire home/apt            3.347437\n",
       "                    Hotel room                 3.750000\n",
       "                    Private room               3.311761\n",
       "                    Shared room                3.327402\n",
       "Staten Island       Entire home/apt            3.334129\n",
       "                    Private room               3.493671\n",
       "                    Shared room                3.714286\n",
       "brookln             Private room               4.000000"
      ]
     },
     "execution_count": 75,
     "metadata": {},
     "output_type": "execute_result"
    }
   ],
   "source": [
    "#What is the average review rate number (e.g., stars) for listings, and does it vary based on the neighborhood group and room type? \n",
    "ARRN = df.groupby(['neighbourhood group', 'room type']) ['review rate number'].mean().to_frame()\n",
    "ARRN"
   ]
  },
  {
   "cell_type": "code",
   "execution_count": 77,
   "id": "f781c946",
   "metadata": {},
   "outputs": [
    {
     "data": {
      "image/png": "[encoded data removed]",
      "text/plain": [
       "<Figure size 864x720 with 1 Axes>"
      ]
     },
     "metadata": {
      "needs_background": "light"
     },
     "output_type": "display_data"
    }
   ],
   "source": [
    "plt.figure(figsize = [12,10]);\n",
    "\n",
    "sns.barplot(data = df, x = 'neighbourhood group', y = 'review rate number', hue = 'room type');\n",
    "\n",
    "plt.xlabel('Neighbourhood Group');\n",
    "\n",
    "plt.ylabel('Average Review Rate');\n",
    "\n",
    "plt.title('Average Review Rate for each Room/Property Type in each Neighbourhood Group');"
   ]
  },
  {
   "cell_type": "markdown",
   "id": "6d0456fd",
   "metadata": {},
   "source": [
    "Hotel rooms exhibit has higher review rate compared to all other property types within the three neighborhood groups where they are located: Brooklyn, Manhattan, and Queens."
   ]
  },
  {
   "cell_type": "markdown",
   "id": "f381bc11",
   "metadata": {},
   "source": [
    "Are hosts with a higher calculated host listings count more likely to maintain higher availability throughout the year?"
   ]
  },
  {
   "cell_type": "code",
   "execution_count": 80,
   "id": "fedf3a88",
   "metadata": {},
   "outputs": [
    {
     "data": {
      "image/png": "[encoded data removed]",
      "text/plain": [
       "<Figure size 432x288 with 1 Axes>"
      ]
     },
     "metadata": {
      "needs_background": "light"
     },
     "output_type": "display_data"
    }
   ],
   "source": [
    "#Are hosts with a higher calculated host listings count more likely to maintain higher availability throughout the year?\n",
    "\n",
    "sns.regplot( data = df, x= 'calculated host listings count', y = 'availability 365');\n",
    "\n",
    "plt.xlabel('Calculated Host Listings');\n",
    "\n",
    "plt.ylabel('Availability 365');\n",
    "\n",
    "plt.title('A Regression Plot of the Relationship between Calculated Host Listings Count and Availability 365');"
   ]
  },
  {
   "cell_type": "code",
   "execution_count": 83,
   "id": "31a037db",
   "metadata": {},
   "outputs": [
    {
     "data": {
      "text/plain": [
       "0.13470925792080493"
      ]
     },
     "execution_count": 83,
     "metadata": {},
     "output_type": "execute_result"
    }
   ],
   "source": [
    "df['calculated host listings count'].corr(df['availability 365'])"
   ]
  },
  {
   "cell_type": "markdown",
   "id": "09845c78",
   "metadata": {},
   "source": [
    "The Pearson correlation coefficient for the association between calculated host listings and availability 365 is 0.136, indicating a weak positive correlation between the two variables."
   ]
  },
  {
   "cell_type": "markdown",
   "id": "d1d42c60",
   "metadata": {},
   "source": [
    "Conclusion\n",
    "\n",
    "In conclusion, this project has provided a comprehensive analysis of the New York City Airbnb dataset, shedding light on various aspects of the short-term lodging market. Through data wrangling, exploratory data analysis (EDA), and interpretation of summary statistics, we've uncovered valuable insights into listing distribution, pricing dynamics, host, and review analysis.\n",
    "\n",
    "Key findings include the dominance in counts of Entire home/apt listings, the variability in listing counts across neighborhood groups, and the downward trend between property construction year and price. Additionally, the analysis highlighted the significance of verified host status on review rates, as well as the strong correlation between listing price and service fee.\n",
    "\n",
    "Furthermore, conducting sentiment analysis on guest reviews to understand factors driving customer satisfaction and preferences could inform targeted marketing strategies and product improvements for Airbnb. Lastly, expanding the analysis to include predictive modeling techniques, such as regression or machine learning algorithms, could enable forecasting of listing demand, pricing trends, and customer behavior, facilitating strategic decision-making for stakeholders in the short-term lodging industry."
   ]
  }
 ],
 "metadata": {
  "kernelspec": {
   "display_name": "Python 3 (ipykernel)",
   "language": "python",
   "name": "python3"
  },
  "language_info": {
   "codemirror_mode": {
    "name": "ipython",
    "version": 3
   },
   "file_extension": ".py",
   "mimetype": "text/x-python",
   "name": "python",
   "nbconvert_exporter": "python",
   "pygments_lexer": "ipython3",
   "version": "3.9.12"
  }
 },
 "nbformat": 4,
 "nbformat_minor": 5
}
